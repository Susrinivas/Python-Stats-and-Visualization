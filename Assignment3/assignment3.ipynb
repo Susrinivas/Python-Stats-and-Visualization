{
  "nbformat": 4,
  "nbformat_minor": 0,
  "metadata": {
    "colab": {
      "provenance": [],
      "collapsed_sections": [],
      "authorship_tag": "ABX9TyOvDBnmMI1VBMp9oAjE4P8u",
      "include_colab_link": true
    },
    "kernelspec": {
      "name": "python3",
      "display_name": "Python 3"
    },
    "language_info": {
      "name": "python"
    }
  },
  "cells": [
    {
      "cell_type": "markdown",
      "metadata": {
        "id": "view-in-github",
        "colab_type": "text"
      },
      "source": [
        "<a href=\"https://colab.research.google.com/github/Susrinivas/Python-Stats-and-Visualization/blob/main/Assignment3/assignment3.ipynb\" target=\"_parent\"><img src=\"https://colab.research.google.com/assets/colab-badge.svg\" alt=\"Open In Colab\"/></a>"
      ]
    },
    {
      "cell_type": "markdown",
      "source": [
        "# Assignment 3\n",
        "Name - Susrinivas Nettem\n",
        "\n",
        "Date - 18/9/2022"
      ],
      "metadata": {
        "id": "kxShkwmivjxi"
      }
    },
    {
      "cell_type": "code",
      "execution_count": 1,
      "metadata": {
        "id": "SkQnePx5cyEU"
      },
      "outputs": [],
      "source": [
        "import random"
      ]
    },
    {
      "cell_type": "markdown",
      "source": [
        "<b>Write a program that generates 100 random integers between 0 and 9.</b>\n",
        "\n",
        "<b>Print them in a 10 by 10 matrix neatly arranged like the following (one space between each number)</b>"
      ],
      "metadata": {
        "id": "pbwdHerCuZen"
      }
    },
    {
      "cell_type": "code",
      "source": [
        "for i in range(10):\n",
        "  for j in range(10):\n",
        "    print(random.randint(0,9), end=' ')\n",
        "  print('\\n')"
      ],
      "metadata": {
        "colab": {
          "base_uri": "https://localhost:8080/"
        },
        "id": "j494peHvc7os",
        "outputId": "3b121ef1-7d38-4d41-f1e2-607bc24e01be"
      },
      "execution_count": 2,
      "outputs": [
        {
          "output_type": "stream",
          "name": "stdout",
          "text": [
            "9 7 0 7 3 5 4 0 4 4 \n",
            "\n",
            "7 9 8 9 7 6 7 4 9 0 \n",
            "\n",
            "0 6 5 8 9 7 0 6 9 6 \n",
            "\n",
            "8 0 7 9 6 2 3 5 1 5 \n",
            "\n",
            "8 7 2 8 2 2 2 8 0 1 \n",
            "\n",
            "9 2 6 4 8 5 8 8 7 8 \n",
            "\n",
            "3 8 4 6 6 4 1 3 5 6 \n",
            "\n",
            "6 6 2 3 5 5 6 2 2 2 \n",
            "\n",
            "3 7 0 0 1 7 4 7 0 2 \n",
            "\n",
            "0 1 9 8 0 4 8 8 7 9 \n",
            "\n"
          ]
        }
      ]
    },
    {
      "cell_type": "markdown",
      "source": [
        "<b>If the random number is an odd number, print \"@\" instead. like the following:</b>\n"
      ],
      "metadata": {
        "id": "jB0M94n3unug"
      }
    },
    {
      "cell_type": "code",
      "source": [
        "for i in range(10):\n",
        "  for j in range(10):\n",
        "    num=random.randint(0,9)\n",
        "    if num%2 != 0:\n",
        "     print('@', end=' ')\n",
        "    else:\n",
        "      print(num, end=' ')\n",
        "  print('\\n')"
      ],
      "metadata": {
        "colab": {
          "base_uri": "https://localhost:8080/"
        },
        "id": "wnKv4xgFd08k",
        "outputId": "18181756-f287-440f-8bc8-7bd67290aa8a"
      },
      "execution_count": 3,
      "outputs": [
        {
          "output_type": "stream",
          "name": "stdout",
          "text": [
            "6 @ @ 2 4 @ 0 4 2 8 \n",
            "\n",
            "6 @ @ @ 0 0 @ @ 0 4 \n",
            "\n",
            "@ 4 @ 0 6 @ @ 2 2 0 \n",
            "\n",
            "@ @ 8 @ 0 @ 6 0 @ 4 \n",
            "\n",
            "@ @ @ @ @ 6 @ @ @ @ \n",
            "\n",
            "@ 8 @ @ 8 0 @ @ @ @ \n",
            "\n",
            "@ @ @ 6 0 @ 2 2 6 @ \n",
            "\n",
            "@ 6 @ @ 6 @ @ 4 @ @ \n",
            "\n",
            "8 0 8 @ @ @ @ 6 6 @ \n",
            "\n",
            "4 0 2 0 @ 0 @ @ 6 2 \n",
            "\n"
          ]
        }
      ]
    },
    {
      "cell_type": "markdown",
      "source": [
        "<b>Calculate and Print the total of each row like the following (use \"*\" to separate the total from the numbers):</b>"
      ],
      "metadata": {
        "id": "qD6CJ8vhuw86"
      }
    },
    {
      "cell_type": "code",
      "source": [
        "for i in range(10):\n",
        "  sum = 0;\n",
        "  for j in range(10):\n",
        "    num = random.randint(0,9)\n",
        "    sum = sum + num\n",
        "    print(num, end=' ')\n",
        "  print('*',' ',sum,'\\n')"
      ],
      "metadata": {
        "colab": {
          "base_uri": "https://localhost:8080/"
        },
        "id": "O-asaoL_ec9R",
        "outputId": "6cc1e5dd-0518-49fa-e1c1-3beb5020b6a0"
      },
      "execution_count": 4,
      "outputs": [
        {
          "output_type": "stream",
          "name": "stdout",
          "text": [
            "8 5 0 8 3 6 1 0 9 6 *   46 \n",
            "\n",
            "9 6 2 4 4 7 1 9 7 5 *   54 \n",
            "\n",
            "3 1 4 4 9 5 5 7 6 7 *   51 \n",
            "\n",
            "5 5 4 3 6 3 1 6 9 8 *   50 \n",
            "\n",
            "2 9 4 6 9 4 9 1 1 7 *   52 \n",
            "\n",
            "1 9 7 4 9 0 0 0 3 1 *   34 \n",
            "\n",
            "0 7 9 2 7 8 2 0 9 7 *   51 \n",
            "\n",
            "7 8 3 1 0 5 1 2 7 2 *   36 \n",
            "\n",
            "5 9 9 5 8 8 8 6 2 2 *   62 \n",
            "\n",
            "2 9 7 1 6 7 4 3 7 9 *   55 \n",
            "\n"
          ]
        }
      ]
    },
    {
      "cell_type": "markdown",
      "source": [
        "<b>Surround the matrix with asterisks (*) like the following:\n",
        "</b>"
      ],
      "metadata": {
        "id": "krTPK5fHu6WP"
      }
    },
    {
      "cell_type": "code",
      "source": [
        "for i in range(23):\n",
        "  print('*',end='')\n",
        "print('\\n')\n",
        "for i in range(10):\n",
        "  print('*', end=' ')\n",
        "  for j in range(10):\n",
        "    print(random.randint(0,9), end=' ')\n",
        "  print('*','\\n')\n",
        "for i in range(23):\n",
        "  print('*',end='')\n"
      ],
      "metadata": {
        "colab": {
          "base_uri": "https://localhost:8080/"
        },
        "id": "uqybL1Txe9k5",
        "outputId": "cfca6712-4feb-4b9c-867c-d5e736a31c31"
      },
      "execution_count": 5,
      "outputs": [
        {
          "output_type": "stream",
          "name": "stdout",
          "text": [
            "***********************\n",
            "\n",
            "* 0 4 7 5 9 4 7 8 0 4 * \n",
            "\n",
            "* 5 2 7 4 6 5 0 5 8 0 * \n",
            "\n",
            "* 2 4 3 2 6 7 4 7 5 8 * \n",
            "\n",
            "* 9 9 6 7 7 3 6 0 1 1 * \n",
            "\n",
            "* 1 2 3 9 3 9 6 9 1 8 * \n",
            "\n",
            "* 5 4 0 3 8 3 7 6 4 6 * \n",
            "\n",
            "* 6 9 3 0 7 7 7 1 4 5 * \n",
            "\n",
            "* 6 1 9 8 0 8 8 7 6 5 * \n",
            "\n",
            "* 3 7 2 6 2 1 9 7 9 2 * \n",
            "\n",
            "* 4 6 2 1 7 7 7 9 5 7 * \n",
            "\n",
            "***********************"
          ]
        }
      ]
    },
    {
      "cell_type": "markdown",
      "source": [
        "<b>Calculate and Print the total of each row and column like the following:\n",
        "</b>"
      ],
      "metadata": {
        "id": "AiAjy41dvAVn"
      }
    },
    {
      "cell_type": "code",
      "source": [
        "array1=[]\n",
        "for i in range(10):\n",
        "  sum = 0;\n",
        "  arr=[]\n",
        "  for j in range(10):\n",
        "    num = random.randint(0,9)\n",
        "    arr.append(num)\n",
        "    sum = sum + num\n",
        "    print(num, end='  ')\n",
        "  print('*',' ',sum,'\\n')\n",
        "  array1.append(arr)\n",
        "for i in range(10):\n",
        " print(\"*\", end='  ')\n",
        "print('\\n')\n",
        "\n",
        "for i in range(10):\n",
        "  sum=0\n",
        "  for j in range(10):\n",
        "    sum=sum+array1[j][i]\n",
        "\n",
        "  print(sum,end=' ')"
      ],
      "metadata": {
        "colab": {
          "base_uri": "https://localhost:8080/"
        },
        "id": "cW0om7-Ogvnx",
        "outputId": "e57dbf31-1905-4f10-f15a-1de477e4cba5"
      },
      "execution_count": 6,
      "outputs": [
        {
          "output_type": "stream",
          "name": "stdout",
          "text": [
            "3  6  7  1  1  8  7  6  8  7  *   54 \n",
            "\n",
            "8  0  3  1  7  7  7  2  7  1  *   43 \n",
            "\n",
            "6  6  5  8  6  5  2  7  1  1  *   47 \n",
            "\n",
            "8  3  6  3  8  3  4  8  9  2  *   54 \n",
            "\n",
            "4  3  2  8  4  4  8  8  0  8  *   49 \n",
            "\n",
            "5  5  7  7  8  3  7  8  1  8  *   59 \n",
            "\n",
            "1  7  3  3  7  8  7  4  3  4  *   47 \n",
            "\n",
            "4  2  7  2  4  8  8  6  8  0  *   49 \n",
            "\n",
            "7  5  5  3  8  7  2  0  7  6  *   50 \n",
            "\n",
            "4  5  5  3  4  1  1  1  4  7  *   35 \n",
            "\n",
            "*  *  *  *  *  *  *  *  *  *  \n",
            "\n",
            "50 42 50 39 57 54 53 50 48 44 "
          ]
        }
      ]
    }
  ]
}