{
  "nbformat": 4,
  "nbformat_minor": 0,
  "metadata": {
    "colab": {
      "provenance": []
    },
    "kernelspec": {
      "name": "python3",
      "display_name": "Python 3"
    },
    "language_info": {
      "name": "python"
    }
  },
  "cells": [
    {
      "cell_type": "markdown",
      "source": [
        "# getting the input:\n",
        "- Prompting a user to enter 10 integers.\n",
        "\n",
        "- If the user enters anything other than integers, reminding them that only integers are allowed and let them retry.\n",
        "\n",
        "not allowing the user to enter more than 10 or less than 10 integers. Displaying the 10 integers entered at the end."
      ],
      "metadata": {
        "id": "DRGVOH3Bmofz"
      }
    },
    {
      "cell_type": "code",
      "execution_count": 2,
      "metadata": {
        "colab": {
          "base_uri": "https://localhost:8080/"
        },
        "id": "RAWQOpW_b_XS",
        "outputId": "403c7ec7-faeb-43c0-c063-9744c4368263"
      },
      "outputs": [
        {
          "output_type": "stream",
          "name": "stdout",
          "text": [
            "Enter integers: 2\n",
            "Enter integers: 3\n",
            "Enter integers: 4\n",
            "Enter integers: 4\n",
            "Enter integers: 32\n",
            "Enter integers: 5\n",
            "Enter integers: 4\n",
            "Enter integers: 3\n",
            "Enter integers: 4\n",
            "Enter integers: 2\n",
            "Integers entered are  [2, 3, 4, 4, 32, 5, 4, 3, 4, 2]\n"
          ]
        }
      ],
      "source": [
        "\n",
        "i=0;\n",
        "b=[];\n",
        "while(i<10):\n",
        " try:\n",
        "   a = int(input(\"Enter integers: \"))\n",
        "   b.append(a);\n",
        "   i=i+1;\n",
        " except:\n",
        "  print(\"please enter integer only\")\n",
        "\n",
        "print(\"Integers entered are \",b)\n"
      ]
    },
    {
      "cell_type": "markdown",
      "source": [
        "# getting the minimum number from the conisdered list of numbers.\n",
        "\n"
      ],
      "metadata": {
        "id": "eWuxxnr7m876"
      }
    },
    {
      "cell_type": "code",
      "source": [
        "#Minimum\n",
        "i=0\n",
        "while(i<len(b)):\n",
        "  x = b[0]\n",
        "  for num in b:\n",
        "    if num < x:\n",
        "      x=num\n",
        "  i=i+1\n",
        "minimum = x\n",
        "print(\"maximum value in the array is:\", x)\n"
      ],
      "metadata": {
        "colab": {
          "base_uri": "https://localhost:8080/"
        },
        "id": "EqUNr1FXdQNo",
        "outputId": "8a1b4340-38ae-4c59-81d2-cae4c58ac405"
      },
      "execution_count": 3,
      "outputs": [
        {
          "output_type": "stream",
          "name": "stdout",
          "text": [
            "maximum value in the array is: 2\n"
          ]
        }
      ]
    },
    {
      "cell_type": "markdown",
      "source": [
        "getting the maximum number from the conisdered list of numbers.\n",
        "\n"
      ],
      "metadata": {
        "id": "tFeQ75E0nBve"
      }
    },
    {
      "cell_type": "code",
      "source": [
        "#Maximum\n",
        "i=0\n",
        "while(i<len(b)):\n",
        "  x = b[0]\n",
        "  for num in b:\n",
        "    if num > x:\n",
        "      x=num\n",
        "  i=i+1\n",
        "maximum = x\n",
        "print(\"maximum value in the array is:\", x)\n",
        "\n",
        "\n"
      ],
      "metadata": {
        "colab": {
          "base_uri": "https://localhost:8080/"
        },
        "id": "HeEYN3TTdl-t",
        "outputId": "147d7fae-2efe-401a-a688-86354f9c6135"
      },
      "execution_count": 4,
      "outputs": [
        {
          "output_type": "stream",
          "name": "stdout",
          "text": [
            "maximum value in the array is: 32\n"
          ]
        }
      ]
    },
    {
      "cell_type": "markdown",
      "source": [],
      "metadata": {
        "id": "G-9vtfEbncMq"
      }
    },
    {
      "cell_type": "markdown",
      "source": [
        "# range is the difference of the highest and lowest values in the list\n",
        "\n"
      ],
      "metadata": {
        "id": "fiqr8UQFnckw"
      }
    },
    {
      "cell_type": "code",
      "source": [
        "#range of numbers in the list is\n",
        "\n",
        "range = maximum - minimum\n",
        "print('range if numbers in the list is: ', range)"
      ],
      "metadata": {
        "colab": {
          "base_uri": "https://localhost:8080/"
        },
        "id": "mCSZ_vJBgNTl",
        "outputId": "843c7a3e-1dc3-4fb3-d1bb-e3168244bd4d"
      },
      "execution_count": 5,
      "outputs": [
        {
          "output_type": "stream",
          "name": "stdout",
          "text": [
            "range if numbers in the list is:  30\n"
          ]
        }
      ]
    },
    {
      "cell_type": "markdown",
      "source": [
        "\n",
        "#getting the mean of the conisdered list of integers.\n"
      ],
      "metadata": {
        "id": "VUP_CwLynNOW"
      }
    },
    {
      "cell_type": "code",
      "source": [
        "#Mean of numbers is\n",
        "sum = 0;\n",
        "i=0\n",
        "while(i<len(b)):\n",
        "  sum = sum + b[i];\n",
        "  i=i+1\n",
        "mean = sum/len(b)\n",
        "\n",
        "print('mean of numbers in the list is', mean)\n",
        "\n"
      ],
      "metadata": {
        "colab": {
          "base_uri": "https://localhost:8080/"
        },
        "id": "uyVrX3uxgy13",
        "outputId": "576b8ba7-c32c-4ddf-cc14-8b8c69b0a94a"
      },
      "execution_count": 6,
      "outputs": [
        {
          "output_type": "stream",
          "name": "stdout",
          "text": [
            "mean of numbers in the list is 6.3\n"
          ]
        }
      ]
    },
    {
      "cell_type": "markdown",
      "source": [
        "# Variance"
      ],
      "metadata": {
        "id": "xQRN0bSvng5d"
      }
    },
    {
      "cell_type": "code",
      "source": [
        "#Variance\n",
        "variance1=0\n",
        "def variance(b):\n",
        "  n=len(b)\n",
        "  i=0\n",
        "  var = 0\n",
        "  while(i<len(b)):\n",
        "    var = var + (b[i]-mean)**2\n",
        "    i=i+1\n",
        "  variance1 = var/(len(b))\n",
        "  return variance1\n",
        "   \n",
        "variance(b)\n",
        "print('variance of numbers in array is', variance(b))\n"
      ],
      "metadata": {
        "colab": {
          "base_uri": "https://localhost:8080/"
        },
        "id": "vVUUHmrZhU0S",
        "outputId": "a4bcdb5a-c5d8-4641-aa07-8ec1962d2cd9"
      },
      "execution_count": 7,
      "outputs": [
        {
          "output_type": "stream",
          "name": "stdout",
          "text": [
            "variance of numbers in array is 74.21000000000001\n"
          ]
        }
      ]
    },
    {
      "cell_type": "markdown",
      "source": [
        "#Standard deviation"
      ],
      "metadata": {
        "id": "_yGpqSTennA8"
      }
    },
    {
      "cell_type": "code",
      "source": [
        "import math\n",
        "def standard_deviation(b):\n",
        "  std = math.sqrt(variance(b))\n",
        "  print(\"standard deviation of numbers in array is\", std)\n",
        "\n",
        "standard_deviation(b)"
      ],
      "metadata": {
        "colab": {
          "base_uri": "https://localhost:8080/"
        },
        "id": "axTI3_yWkcIC",
        "outputId": "1dbae6cd-eb9f-4b00-8ea6-89c3d99fa4d1"
      },
      "execution_count": 8,
      "outputs": [
        {
          "output_type": "stream",
          "name": "stdout",
          "text": [
            "standard deviation of numbers in array is 8.614522621712709\n"
          ]
        }
      ]
    }
  ]
}