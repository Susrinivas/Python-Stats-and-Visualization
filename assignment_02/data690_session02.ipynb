{
  "nbformat": 4,
  "nbformat_minor": 0,
  "metadata": {
    "colab": {
      "provenance": [],
      "collapsed_sections": [],
      "authorship_tag": "ABX9TyOXaUlT6Fc+ZioyNWyJt3gv",
      "include_colab_link": true
    },
    "kernelspec": {
      "name": "python3",
      "display_name": "Python 3"
    },
    "language_info": {
      "name": "python"
    }
  },
  "cells": [
    {
      "cell_type": "markdown",
      "metadata": {
        "id": "view-in-github",
        "colab_type": "text"
      },
      "source": [
        "<a href=\"https://colab.research.google.com/github/Susrinivas/Python-Stats-and-Visualization/blob/main/assignment_02/data690_session02.ipynb\" target=\"_parent\"><img src=\"https://colab.research.google.com/assets/colab-badge.svg\" alt=\"Open In Colab\"/></a>"
      ]
    },
    {
      "cell_type": "markdown",
      "source": [
        "#Data 690 session 02\n",
        "\n",
        "- Date: 09/09/22\n",
        "- Name: Susrinivas Nettem"
      ],
      "metadata": {
        "id": "16M7vSy1cjZt"
      }
    },
    {
      "cell_type": "code",
      "source": [
        "year = \"1/11/1997 1991 2000 1966 1999 1998 1993 1996 1999 1997 1996 1998 1995\"\n",
        "print('Birth year of students',year)"
      ],
      "metadata": {
        "colab": {
          "base_uri": "https://localhost:8080/"
        },
        "id": "iBfZEHYOfdNx",
        "outputId": "5021ddde-e763-4d72-842e-391012b29bb7"
      },
      "execution_count": null,
      "outputs": [
        {
          "output_type": "stream",
          "name": "stdout",
          "text": [
            "Birth year of students 1/11/1997 1991 2000 1966 1999 1998 1993 1996 1999 1997 1996 1998 1995\n"
          ]
        }
      ]
    },
    {
      "cell_type": "code",
      "source": [
        "type(year)"
      ],
      "metadata": {
        "colab": {
          "base_uri": "https://localhost:8080/"
        },
        "id": "YplKnv4-fsHN",
        "outputId": "ef12b959-a139-4065-d192-9768c255b52e"
      },
      "execution_count": null,
      "outputs": [
        {
          "output_type": "execute_result",
          "data": {
            "text/plain": [
              "str"
            ]
          },
          "metadata": {},
          "execution_count": 26
        }
      ]
    },
    {
      "cell_type": "code",
      "source": [
        "year_list = year.split(\" \")\n",
        "print(year_list)"
      ],
      "metadata": {
        "colab": {
          "base_uri": "https://localhost:8080/"
        },
        "id": "pCfbFG1dfxqk",
        "outputId": "b31514ec-79ed-4dde-b7f3-e94ae8070003"
      },
      "execution_count": null,
      "outputs": [
        {
          "output_type": "stream",
          "name": "stdout",
          "text": [
            "['1/11/1997', '1991', '2000', '1966', '1999', '1998', '1993', '1996', '1999', '1997', '1996', '1998', '1995']\n"
          ]
        }
      ]
    },
    {
      "cell_type": "code",
      "source": [
        "x=[2.3,4.5,5.5,6.5]\n",
        "type(x)"
      ],
      "metadata": {
        "colab": {
          "base_uri": "https://localhost:8080/"
        },
        "id": "QoxmejZef3fD",
        "outputId": "be18d790-c42a-4108-b826-6c5c19e72f0e"
      },
      "execution_count": null,
      "outputs": [
        {
          "output_type": "execute_result",
          "data": {
            "text/plain": [
              "list"
            ]
          },
          "metadata": {},
          "execution_count": 12
        }
      ]
    },
    {
      "cell_type": "code",
      "source": [
        "total = 0\n",
        "y=0;\n",
        "for num in x:\n",
        "  total =total+num;\n",
        "  y = y+1\n",
        "print('sum and length ',total, y)"
      ],
      "metadata": {
        "colab": {
          "base_uri": "https://localhost:8080/"
        },
        "id": "0ito7fXTg3jv",
        "outputId": "c344414a-52bb-4931-e340-cd76b5200d56"
      },
      "execution_count": null,
      "outputs": [
        {
          "output_type": "stream",
          "name": "stdout",
          "text": [
            "sum and length  18.8 4\n"
          ]
        }
      ]
    },
    {
      "cell_type": "code",
      "source": [
        "print('avg is ', total/y)"
      ],
      "metadata": {
        "colab": {
          "base_uri": "https://localhost:8080/"
        },
        "id": "3dytgeTsg-AD",
        "outputId": "22bbe57f-1650-45a8-ad7f-5aab9df2d1e6"
      },
      "execution_count": null,
      "outputs": [
        {
          "output_type": "stream",
          "name": "stdout",
          "text": [
            "avg is  4.7\n"
          ]
        }
      ]
    },
    {
      "cell_type": "code",
      "source": [
        "year_list[0]"
      ],
      "metadata": {
        "colab": {
          "base_uri": "https://localhost:8080/",
          "height": 36
        },
        "id": "Bpzcl6u8iwsG",
        "outputId": "38982ab3-2a72-472a-acf9-d06440091bd3"
      },
      "execution_count": null,
      "outputs": [
        {
          "output_type": "execute_result",
          "data": {
            "text/plain": [
              "'1/11/1997'"
            ],
            "application/vnd.google.colaboratory.intrinsic+json": {
              "type": "string"
            }
          },
          "metadata": {},
          "execution_count": 28
        }
      ]
    },
    {
      "cell_type": "code",
      "source": [
        "year_list[2]"
      ],
      "metadata": {
        "colab": {
          "base_uri": "https://localhost:8080/",
          "height": 36
        },
        "id": "be8igJXdjBvS",
        "outputId": "51f40a8b-15eb-460c-b149-55d7a88b960d"
      },
      "execution_count": null,
      "outputs": [
        {
          "output_type": "execute_result",
          "data": {
            "text/plain": [
              "'2000'"
            ],
            "application/vnd.google.colaboratory.intrinsic+json": {
              "type": "string"
            }
          },
          "metadata": {},
          "execution_count": 29
        }
      ]
    },
    {
      "cell_type": "code",
      "source": [
        "years_list2=year_list.pop(0)"
      ],
      "metadata": {
        "id": "Ve3D4AQQjDJh"
      },
      "execution_count": null,
      "outputs": []
    },
    {
      "cell_type": "code",
      "source": [
        "years_list2"
      ],
      "metadata": {
        "colab": {
          "base_uri": "https://localhost:8080/",
          "height": 36
        },
        "id": "hud-S_yHjKUU",
        "outputId": "8fa118c9-eff5-422e-8af5-ffe72f51a8b3"
      },
      "execution_count": null,
      "outputs": [
        {
          "output_type": "execute_result",
          "data": {
            "text/plain": [
              "'1991'"
            ],
            "application/vnd.google.colaboratory.intrinsic+json": {
              "type": "string"
            }
          },
          "metadata": {},
          "execution_count": 33
        }
      ]
    },
    {
      "cell_type": "code",
      "source": [
        "from datetime import date\n",
        "current_year = date.today().year\n",
        "print(current_year)"
      ],
      "metadata": {
        "colab": {
          "base_uri": "https://localhost:8080/"
        },
        "id": "X53h6G52jLlK",
        "outputId": "efb0469b-9963-4d77-d135-9c735ba637e7"
      },
      "execution_count": null,
      "outputs": [
        {
          "output_type": "stream",
          "name": "stdout",
          "text": [
            "2022\n"
          ]
        }
      ]
    },
    {
      "cell_type": "code",
      "source": [
        "total = 0\n",
        "age = 0\n",
        "x=0;\n",
        "for y in year_list:\n",
        "  age = int(current_year)-int(y)\n",
        "  x=x+1\n",
        "  total = total+age\n",
        "  print('age of person',x, 'is', age)"
      ],
      "metadata": {
        "colab": {
          "base_uri": "https://localhost:8080/"
        },
        "id": "R3UJM0kDlIeA",
        "outputId": "be425900-f424-4276-8d35-d9042025d2df"
      },
      "execution_count": null,
      "outputs": [
        {
          "output_type": "stream",
          "name": "stdout",
          "text": [
            "age of person 1 is 56\n",
            "age of person 2 is 23\n",
            "age of person 3 is 24\n",
            "age of person 4 is 29\n",
            "age of person 5 is 26\n",
            "age of person 6 is 23\n",
            "age of person 7 is 25\n",
            "age of person 8 is 26\n",
            "age of person 9 is 24\n",
            "age of person 10 is 27\n"
          ]
        }
      ]
    },
    {
      "cell_type": "code",
      "source": [
        "import math\n",
        "print('average age of class is',math.floor(total/len(year_list)))"
      ],
      "metadata": {
        "colab": {
          "base_uri": "https://localhost:8080/"
        },
        "id": "iu6-7inrmspd",
        "outputId": "cb48f17b-66c1-49bb-836a-8476497dae3c"
      },
      "execution_count": null,
      "outputs": [
        {
          "output_type": "stream",
          "name": "stdout",
          "text": [
            "average age of class is 28\n"
          ]
        }
      ]
    },
    {
      "cell_type": "markdown",
      "source": [
        "# Approach 2 - fix data problem\n"
      ],
      "metadata": {
        "id": "C-kxwM60r-sc"
      }
    },
    {
      "cell_type": "code",
      "source": [
        "years_list = year.split()\n",
        "years_list"
      ],
      "metadata": {
        "colab": {
          "base_uri": "https://localhost:8080/"
        },
        "id": "nIE7OqRdsDiu",
        "outputId": "e68ea5d7-19cd-4514-be32-1b0f12756a11"
      },
      "execution_count": null,
      "outputs": [
        {
          "output_type": "execute_result",
          "data": {
            "text/plain": [
              "['1/11/1997',\n",
              " '1991',\n",
              " '2000',\n",
              " '1966',\n",
              " '1999',\n",
              " '1998',\n",
              " '1993',\n",
              " '1996',\n",
              " '1999',\n",
              " '1997',\n",
              " '1996',\n",
              " '1998',\n",
              " '1995']"
            ]
          },
          "metadata": {},
          "execution_count": 49
        }
      ]
    },
    {
      "cell_type": "code",
      "source": [
        "years_list[0] = '1997'\n",
        "years_list"
      ],
      "metadata": {
        "colab": {
          "base_uri": "https://localhost:8080/"
        },
        "id": "txoVHtsysNCO",
        "outputId": "50dab077-f8b0-41cf-856a-a69abdf71392"
      },
      "execution_count": null,
      "outputs": [
        {
          "output_type": "execute_result",
          "data": {
            "text/plain": [
              "['1997',\n",
              " '1991',\n",
              " '2000',\n",
              " '1966',\n",
              " '1999',\n",
              " '1998',\n",
              " '1993',\n",
              " '1996',\n",
              " '1999',\n",
              " '1997',\n",
              " '1996',\n",
              " '1998',\n",
              " '1995']"
            ]
          },
          "metadata": {},
          "execution_count": 51
        }
      ]
    },
    {
      "cell_type": "code",
      "source": [
        "x='I don\\'t like \\'\\''\n",
        "x"
      ],
      "metadata": {
        "colab": {
          "base_uri": "https://localhost:8080/",
          "height": 36
        },
        "id": "Jl8qvkUzsptD",
        "outputId": "a598652d-49ba-48c6-a8ce-b6a654350643"
      },
      "execution_count": null,
      "outputs": [
        {
          "output_type": "execute_result",
          "data": {
            "text/plain": [
              "\"I don't like ''\""
            ],
            "application/vnd.google.colaboratory.intrinsic+json": {
              "type": "string"
            }
          },
          "metadata": {},
          "execution_count": 55
        }
      ]
    },
    {
      "cell_type": "code",
      "source": [
        "y='I prefer double quote \"\"'\n",
        "y"
      ],
      "metadata": {
        "colab": {
          "base_uri": "https://localhost:8080/",
          "height": 36
        },
        "id": "4Ls-gVVGtfoe",
        "outputId": "7b1e912d-ef1f-4cd6-e4f0-52cf0faca98b"
      },
      "execution_count": null,
      "outputs": [
        {
          "output_type": "execute_result",
          "data": {
            "text/plain": [
              "'I prefer double quote \"\"'"
            ],
            "application/vnd.google.colaboratory.intrinsic+json": {
              "type": "string"
            }
          },
          "metadata": {},
          "execution_count": 57
        }
      ]
    },
    {
      "cell_type": "code",
      "source": [
        "total = 0\n",
        "age = 0\n",
        "x=0;\n",
        "for y in year_list:\n",
        "  age = int(current_year)-int(y)\n",
        "  x=x+1\n",
        "  total = total+age\n",
        "  print('age of person',x, 'is', age)"
      ],
      "metadata": {
        "colab": {
          "base_uri": "https://localhost:8080/"
        },
        "id": "26_ax-8Ytvpa",
        "outputId": "8c97f8cd-dd32-4654-88f1-9b31dad88003"
      },
      "execution_count": null,
      "outputs": [
        {
          "output_type": "stream",
          "name": "stdout",
          "text": [
            "age of person 1 is 56\n",
            "age of person 2 is 23\n",
            "age of person 3 is 24\n",
            "age of person 4 is 29\n",
            "age of person 5 is 26\n",
            "age of person 6 is 23\n",
            "age of person 7 is 25\n",
            "age of person 8 is 26\n",
            "age of person 9 is 24\n",
            "age of person 10 is 27\n"
          ]
        }
      ]
    },
    {
      "cell_type": "code",
      "source": [
        "import math\n",
        "print('average age of class is',math.floor(total/len(year_list)))"
      ],
      "metadata": {
        "colab": {
          "base_uri": "https://localhost:8080/"
        },
        "id": "aurgJrQht0eH",
        "outputId": "d3ece2f5-8a76-4b3f-e31d-c29d907c18a9"
      },
      "execution_count": null,
      "outputs": [
        {
          "output_type": "stream",
          "name": "stdout",
          "text": [
            "average age of class is 28\n"
          ]
        }
      ]
    },
    {
      "cell_type": "markdown",
      "source": [
        "# Approach 3 : Handle exception"
      ],
      "metadata": {
        "id": "wMllgSwLuKd0"
      }
    },
    {
      "cell_type": "code",
      "source": [
        "years_list = year.split()\n",
        "years_list"
      ],
      "metadata": {
        "colab": {
          "base_uri": "https://localhost:8080/"
        },
        "id": "jQfziC-HuNhk",
        "outputId": "72c9b4b8-5fc7-4123-ef20-00b060c40423"
      },
      "execution_count": null,
      "outputs": [
        {
          "output_type": "execute_result",
          "data": {
            "text/plain": [
              "['1/11/1997',\n",
              " '1991',\n",
              " '2000',\n",
              " '1966',\n",
              " '1999',\n",
              " '1998',\n",
              " '1993',\n",
              " '1996',\n",
              " '1999',\n",
              " '1997',\n",
              " '1996',\n",
              " '1998',\n",
              " '1995']"
            ]
          },
          "metadata": {},
          "execution_count": 60
        }
      ]
    },
    {
      "cell_type": "code",
      "source": [
        "total = 0\n",
        "age = 0\n",
        "x=0;\n",
        "for y in years_list:\n",
        "  try:\n",
        "    age = int(current_year)-int(y)\n",
        "  except:\n",
        "    continue\n",
        "  if age > 80:\n",
        "    print('skipping this person age > 80:', age)\n",
        "    continue\n",
        "  elif age < 10:\n",
        "    print('skipping this kid < 10:', age)\n",
        "    continue\n",
        "  \n",
        "  x=x+1\n",
        "  total = total+age\n",
        "  print('age of person',x, 'is', age)"
      ],
      "metadata": {
        "colab": {
          "base_uri": "https://localhost:8080/"
        },
        "id": "i2KbSXceuwuH",
        "outputId": "21a1ac17-4d97-4924-a411-74b2b3a4e307"
      },
      "execution_count": null,
      "outputs": [
        {
          "output_type": "stream",
          "name": "stdout",
          "text": [
            "age of person 1 is 31\n",
            "age of person 2 is 22\n",
            "age of person 3 is 56\n",
            "age of person 4 is 23\n",
            "age of person 5 is 24\n",
            "age of person 6 is 29\n",
            "age of person 7 is 26\n",
            "age of person 8 is 23\n",
            "age of person 9 is 25\n",
            "age of person 10 is 26\n",
            "age of person 11 is 24\n",
            "age of person 12 is 27\n"
          ]
        }
      ]
    },
    {
      "cell_type": "code",
      "source": [
        "import math\n",
        "print('average age of class is',math.floor(total/len(years_list)-1))"
      ],
      "metadata": {
        "colab": {
          "base_uri": "https://localhost:8080/"
        },
        "id": "NQJjzI9Xv1qp",
        "outputId": "51dd53e7-9dc2-436b-8c5a-570030e14989"
      },
      "execution_count": null,
      "outputs": [
        {
          "output_type": "stream",
          "name": "stdout",
          "text": [
            "average age of class is 24\n"
          ]
        }
      ]
    },
    {
      "cell_type": "code",
      "source": [
        "import math\n",
        "print('average age of class is',math.floor(total/x), x)"
      ],
      "metadata": {
        "colab": {
          "base_uri": "https://localhost:8080/"
        },
        "id": "eoo9Zo_Xv12v",
        "outputId": "2908174d-6fe2-4dd5-e238-00e92d48e2c3"
      },
      "execution_count": null,
      "outputs": [
        {
          "output_type": "stream",
          "name": "stdout",
          "text": [
            "average age of class is 28 12\n"
          ]
        }
      ]
    },
    {
      "cell_type": "markdown",
      "source": [
        "# Miscallenous"
      ],
      "metadata": {
        "id": "0MT6FrUYySVQ"
      }
    },
    {
      "cell_type": "code",
      "source": [
        "\n",
        "while(True):\n",
        "  try:\n",
        "    x=int(input('Enter a Number: '))\n",
        "    break;\n",
        "  except:\n",
        "    print('please enter only integer')\n",
        "   "
      ],
      "metadata": {
        "colab": {
          "base_uri": "https://localhost:8080/"
        },
        "id": "9qnM6u0gyUmJ",
        "outputId": "5834d61f-75c7-4ab6-ddc7-d804d11b9645"
      },
      "execution_count": null,
      "outputs": [
        {
          "name": "stdout",
          "output_type": "stream",
          "text": [
            "Enter a Number: frf\n",
            "please enter only integer\n",
            "Enter a Number: efe\n",
            "please enter only integer\n",
            "Enter a Number: 23\n"
          ]
        }
      ]
    },
    {
      "cell_type": "code",
      "source": [],
      "metadata": {
        "id": "z51tjP-8zaBU"
      },
      "execution_count": null,
      "outputs": []
    }
  ]
}