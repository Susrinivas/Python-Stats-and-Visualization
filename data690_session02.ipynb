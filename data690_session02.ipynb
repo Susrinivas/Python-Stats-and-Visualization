{
  "nbformat": 4,
  "nbformat_minor": 0,
  "metadata": {
    "colab": {
      "provenance": [],
      "authorship_tag": "ABX9TyNODPioufBZGov7X67fqdxc",
      "include_colab_link": true
    },
    "kernelspec": {
      "name": "python3",
      "display_name": "Python 3"
    },
    "language_info": {
      "name": "python"
    }
  },
  "cells": [
    {
      "cell_type": "markdown",
      "metadata": {
        "id": "view-in-github",
        "colab_type": "text"
      },
      "source": [
        "<a href=\"https://colab.research.google.com/github/Susrinivas/Python-Stats-and-Visualization/blob/main/data690_session02.ipynb\" target=\"_parent\"><img src=\"https://colab.research.google.com/assets/colab-badge.svg\" alt=\"Open In Colab\"/></a>"
      ]
    },
    {
      "cell_type": "markdown",
      "source": [
        "#Data 690 session 02\n",
        "\n",
        "- Date: 09/09/22\n",
        "- Name: Susrinivas Nettem"
      ],
      "metadata": {
        "id": "16M7vSy1cjZt"
      }
    },
    {
      "cell_type": "code",
      "source": [
        "year = \"1/11/1997 1991 2000 1966 1999 1998 1993 1996 1999 1997 1996 1998 1995\"\n",
        "print('Birth year of students',year)"
      ],
      "metadata": {
        "colab": {
          "base_uri": "https://localhost:8080/"
        },
        "id": "iBfZEHYOfdNx",
        "outputId": "5021ddde-e763-4d72-842e-391012b29bb7"
      },
      "execution_count": 25,
      "outputs": [
        {
          "output_type": "stream",
          "name": "stdout",
          "text": [
            "Birth year of students 1/11/1997 1991 2000 1966 1999 1998 1993 1996 1999 1997 1996 1998 1995\n"
          ]
        }
      ]
    },
    {
      "cell_type": "code",
      "source": [
        "type(year)"
      ],
      "metadata": {
        "colab": {
          "base_uri": "https://localhost:8080/"
        },
        "id": "YplKnv4-fsHN",
        "outputId": "ef12b959-a139-4065-d192-9768c255b52e"
      },
      "execution_count": 26,
      "outputs": [
        {
          "output_type": "execute_result",
          "data": {
            "text/plain": [
              "str"
            ]
          },
          "metadata": {},
          "execution_count": 26
        }
      ]
    },
    {
      "cell_type": "code",
      "source": [
        "year_list = year.split(\" \")\n",
        "print(year_list)"
      ],
      "metadata": {
        "colab": {
          "base_uri": "https://localhost:8080/"
        },
        "id": "pCfbFG1dfxqk",
        "outputId": "b31514ec-79ed-4dde-b7f3-e94ae8070003"
      },
      "execution_count": 27,
      "outputs": [
        {
          "output_type": "stream",
          "name": "stdout",
          "text": [
            "['1/11/1997', '1991', '2000', '1966', '1999', '1998', '1993', '1996', '1999', '1997', '1996', '1998', '1995']\n"
          ]
        }
      ]
    },
    {
      "cell_type": "code",
      "source": [
        "x=[2.3,4.5,5.5,6.5]\n",
        "type(x)"
      ],
      "metadata": {
        "colab": {
          "base_uri": "https://localhost:8080/"
        },
        "id": "QoxmejZef3fD",
        "outputId": "be18d790-c42a-4108-b826-6c5c19e72f0e"
      },
      "execution_count": 12,
      "outputs": [
        {
          "output_type": "execute_result",
          "data": {
            "text/plain": [
              "list"
            ]
          },
          "metadata": {},
          "execution_count": 12
        }
      ]
    },
    {
      "cell_type": "code",
      "source": [
        "total = 0\n",
        "y=0;\n",
        "for num in x:\n",
        "  total =total+num;\n",
        "  y = y+1\n",
        "print('sum and length ',total, y)"
      ],
      "metadata": {
        "colab": {
          "base_uri": "https://localhost:8080/"
        },
        "id": "0ito7fXTg3jv",
        "outputId": "c344414a-52bb-4931-e340-cd76b5200d56"
      },
      "execution_count": 20,
      "outputs": [
        {
          "output_type": "stream",
          "name": "stdout",
          "text": [
            "sum and length  18.8 4\n"
          ]
        }
      ]
    },
    {
      "cell_type": "code",
      "source": [
        "print('avg is ', total/y)"
      ],
      "metadata": {
        "colab": {
          "base_uri": "https://localhost:8080/"
        },
        "id": "3dytgeTsg-AD",
        "outputId": "22bbe57f-1650-45a8-ad7f-5aab9df2d1e6"
      },
      "execution_count": 21,
      "outputs": [
        {
          "output_type": "stream",
          "name": "stdout",
          "text": [
            "avg is  4.7\n"
          ]
        }
      ]
    },
    {
      "cell_type": "code",
      "source": [
        "year_list[0]"
      ],
      "metadata": {
        "colab": {
          "base_uri": "https://localhost:8080/",
          "height": 36
        },
        "id": "Bpzcl6u8iwsG",
        "outputId": "38982ab3-2a72-472a-acf9-d06440091bd3"
      },
      "execution_count": 28,
      "outputs": [
        {
          "output_type": "execute_result",
          "data": {
            "text/plain": [
              "'1/11/1997'"
            ],
            "application/vnd.google.colaboratory.intrinsic+json": {
              "type": "string"
            }
          },
          "metadata": {},
          "execution_count": 28
        }
      ]
    },
    {
      "cell_type": "code",
      "source": [
        "year_list[2]"
      ],
      "metadata": {
        "colab": {
          "base_uri": "https://localhost:8080/",
          "height": 36
        },
        "id": "be8igJXdjBvS",
        "outputId": "51f40a8b-15eb-460c-b149-55d7a88b960d"
      },
      "execution_count": 29,
      "outputs": [
        {
          "output_type": "execute_result",
          "data": {
            "text/plain": [
              "'2000'"
            ],
            "application/vnd.google.colaboratory.intrinsic+json": {
              "type": "string"
            }
          },
          "metadata": {},
          "execution_count": 29
        }
      ]
    },
    {
      "cell_type": "code",
      "source": [
        "years_list2=year_list.pop(0)"
      ],
      "metadata": {
        "id": "Ve3D4AQQjDJh"
      },
      "execution_count": 38,
      "outputs": []
    },
    {
      "cell_type": "code",
      "source": [
        "years_list2"
      ],
      "metadata": {
        "colab": {
          "base_uri": "https://localhost:8080/",
          "height": 36
        },
        "id": "hud-S_yHjKUU",
        "outputId": "8fa118c9-eff5-422e-8af5-ffe72f51a8b3"
      },
      "execution_count": 33,
      "outputs": [
        {
          "output_type": "execute_result",
          "data": {
            "text/plain": [
              "'1991'"
            ],
            "application/vnd.google.colaboratory.intrinsic+json": {
              "type": "string"
            }
          },
          "metadata": {},
          "execution_count": 33
        }
      ]
    },
    {
      "cell_type": "code",
      "source": [
        "from datetime import date\n",
        "current_year = date.today().year\n",
        "print(current_year)"
      ],
      "metadata": {
        "colab": {
          "base_uri": "https://localhost:8080/"
        },
        "id": "X53h6G52jLlK",
        "outputId": "efb0469b-9963-4d77-d135-9c735ba637e7"
      },
      "execution_count": 35,
      "outputs": [
        {
          "output_type": "stream",
          "name": "stdout",
          "text": [
            "2022\n"
          ]
        }
      ]
    },
    {
      "cell_type": "code",
      "source": [
        "total = 0\n",
        "age = 0\n",
        "x=0;\n",
        "for y in year_list:\n",
        "  age = int(current_year)-int(y)\n",
        "  x=x+1\n",
        "  total = total+age\n",
        "  print('age of person',x, 'is', age)"
      ],
      "metadata": {
        "colab": {
          "base_uri": "https://localhost:8080/"
        },
        "id": "R3UJM0kDlIeA",
        "outputId": "be425900-f424-4276-8d35-d9042025d2df"
      },
      "execution_count": 42,
      "outputs": [
        {
          "output_type": "stream",
          "name": "stdout",
          "text": [
            "age of person 1 is 56\n",
            "age of person 2 is 23\n",
            "age of person 3 is 24\n",
            "age of person 4 is 29\n",
            "age of person 5 is 26\n",
            "age of person 6 is 23\n",
            "age of person 7 is 25\n",
            "age of person 8 is 26\n",
            "age of person 9 is 24\n",
            "age of person 10 is 27\n"
          ]
        }
      ]
    },
    {
      "cell_type": "code",
      "source": [
        "import math\n",
        "print('average age of class is',math.floor(total/len(year_list)))"
      ],
      "metadata": {
        "colab": {
          "base_uri": "https://localhost:8080/"
        },
        "id": "iu6-7inrmspd",
        "outputId": "cb48f17b-66c1-49bb-836a-8476497dae3c"
      },
      "execution_count": 47,
      "outputs": [
        {
          "output_type": "stream",
          "name": "stdout",
          "text": [
            "average age of class is 28\n"
          ]
        }
      ]
    }
  ]
}